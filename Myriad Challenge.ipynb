{
 "cells": [
  {
   "cell_type": "markdown",
   "metadata": {},
   "source": [
    "# Myriad challenge \n",
    "\n",
    "Autor : **Ricardo Manzanedo**\n",
    "\n",
    "## Introducción\n",
    "\n",
    "En este documento vamos a clasificar series temporales en reales o sintéticas. Para ello, implementamos distintos algoritmos de clasificación, como pueden ser: Árbol de decisión, adaptive boosting, máquinas de vectores de soporte, bosques aleatorios, K vecinos más próximos, Voting Classifier y una red neuronal recurrente.\n",
    "\n",
    "Los resultados obtenidos son bastante pobres ya que se asemejan a una decisión aleatoria, alcanzando una precisión en torno al 50% en todos ellos. No obstante, como se demostraremos a continuación nos quedaremos con Voting classifier que es una combinación de diferentes algoritmos.\n",
    "\n",
    "\n",
    "**Nota:** Este documento esta estructurado para ejecutarse secuencialmente de principio a fin. Algunos de las precisiones obtenidas pueden variar debido a que ciertos algoritmos utilizados "
   ]
  },
  {
   "cell_type": "markdown",
   "metadata": {},
   "source": [
    "### Análisis previo\n",
    "Primero realizamos un rápido análisis de los datos, donde comprobamos la calidad de los datos y realizamos una gráfica con dos series temporales para compararlas "
   ]
  },
  {
   "cell_type": "code",
   "execution_count": 1,
   "metadata": {},
   "outputs": [],
   "source": [
    "import pandas as pd\n",
    "import matplotlib.pyplot as plt\n",
    "import numpy as np"
   ]
  },
  {
   "cell_type": "code",
   "execution_count": 2,
   "metadata": {},
   "outputs": [],
   "source": [
    "df1=pd.read_csv('MyriadChallenge/TrainMyriad.csv')\n",
    "dftest=pd.read_csv('MyriadChallenge/TestMyriad.csv')"
   ]
  },
  {
   "cell_type": "code",
   "execution_count": 3,
   "metadata": {},
   "outputs": [
    {
     "data": {
      "text/html": [
       "<div>\n",
       "<style scoped>\n",
       "    .dataframe tbody tr th:only-of-type {\n",
       "        vertical-align: middle;\n",
       "    }\n",
       "\n",
       "    .dataframe tbody tr th {\n",
       "        vertical-align: top;\n",
       "    }\n",
       "\n",
       "    .dataframe thead th {\n",
       "        text-align: right;\n",
       "    }\n",
       "</style>\n",
       "<table border=\"1\" class=\"dataframe\">\n",
       "  <thead>\n",
       "    <tr style=\"text-align: right;\">\n",
       "      <th></th>\n",
       "      <th>0</th>\n",
       "      <th>1</th>\n",
       "      <th>2</th>\n",
       "      <th>3</th>\n",
       "      <th>4</th>\n",
       "      <th>5</th>\n",
       "      <th>6</th>\n",
       "      <th>7</th>\n",
       "      <th>8</th>\n",
       "      <th>9</th>\n",
       "      <th>...</th>\n",
       "      <th>244</th>\n",
       "      <th>245</th>\n",
       "      <th>246</th>\n",
       "      <th>247</th>\n",
       "      <th>248</th>\n",
       "      <th>249</th>\n",
       "      <th>250</th>\n",
       "      <th>251</th>\n",
       "      <th>252</th>\n",
       "      <th>Class</th>\n",
       "    </tr>\n",
       "  </thead>\n",
       "  <tbody>\n",
       "    <tr>\n",
       "      <th>count</th>\n",
       "      <td>5000.000000</td>\n",
       "      <td>5000.000000</td>\n",
       "      <td>5000.000000</td>\n",
       "      <td>5.000000e+03</td>\n",
       "      <td>5.000000e+03</td>\n",
       "      <td>5000.000000</td>\n",
       "      <td>5.000000e+03</td>\n",
       "      <td>5.000000e+03</td>\n",
       "      <td>5.000000e+03</td>\n",
       "      <td>5000.000000</td>\n",
       "      <td>...</td>\n",
       "      <td>5000.000000</td>\n",
       "      <td>5000.000000</td>\n",
       "      <td>5000.000000</td>\n",
       "      <td>5000.000000</td>\n",
       "      <td>5000.000000</td>\n",
       "      <td>5.000000e+03</td>\n",
       "      <td>5000.000000</td>\n",
       "      <td>5000.000000</td>\n",
       "      <td>5000.000000</td>\n",
       "      <td>5000.000000</td>\n",
       "    </tr>\n",
       "    <tr>\n",
       "      <th>mean</th>\n",
       "      <td>0.000486</td>\n",
       "      <td>0.001032</td>\n",
       "      <td>0.001140</td>\n",
       "      <td>7.375817e-04</td>\n",
       "      <td>4.459286e-04</td>\n",
       "      <td>0.000237</td>\n",
       "      <td>8.479412e-04</td>\n",
       "      <td>1.308039e-03</td>\n",
       "      <td>9.231755e-04</td>\n",
       "      <td>0.000316</td>\n",
       "      <td>...</td>\n",
       "      <td>0.000285</td>\n",
       "      <td>0.000430</td>\n",
       "      <td>0.001387</td>\n",
       "      <td>0.000536</td>\n",
       "      <td>0.000192</td>\n",
       "      <td>9.216463e-04</td>\n",
       "      <td>0.000796</td>\n",
       "      <td>0.000325</td>\n",
       "      <td>0.000477</td>\n",
       "      <td>0.489400</td>\n",
       "    </tr>\n",
       "    <tr>\n",
       "      <th>std</th>\n",
       "      <td>0.022064</td>\n",
       "      <td>0.024896</td>\n",
       "      <td>0.022821</td>\n",
       "      <td>2.281738e-02</td>\n",
       "      <td>2.269435e-02</td>\n",
       "      <td>0.023668</td>\n",
       "      <td>2.315789e-02</td>\n",
       "      <td>2.310966e-02</td>\n",
       "      <td>2.291001e-02</td>\n",
       "      <td>0.022837</td>\n",
       "      <td>...</td>\n",
       "      <td>0.021994</td>\n",
       "      <td>0.022217</td>\n",
       "      <td>0.022296</td>\n",
       "      <td>0.023514</td>\n",
       "      <td>0.021520</td>\n",
       "      <td>2.250196e-02</td>\n",
       "      <td>0.021300</td>\n",
       "      <td>0.023569</td>\n",
       "      <td>0.023480</td>\n",
       "      <td>0.499938</td>\n",
       "    </tr>\n",
       "    <tr>\n",
       "      <th>min</th>\n",
       "      <td>-0.193774</td>\n",
       "      <td>-0.191102</td>\n",
       "      <td>-0.139600</td>\n",
       "      <td>-3.816964e-01</td>\n",
       "      <td>-2.283394e-01</td>\n",
       "      <td>-0.232066</td>\n",
       "      <td>-2.335412e-01</td>\n",
       "      <td>-1.844170e-01</td>\n",
       "      <td>-2.428337e-01</td>\n",
       "      <td>-0.182250</td>\n",
       "      <td>...</td>\n",
       "      <td>-0.337433</td>\n",
       "      <td>-0.137577</td>\n",
       "      <td>-0.179889</td>\n",
       "      <td>-0.227332</td>\n",
       "      <td>-0.138384</td>\n",
       "      <td>-2.072785e-01</td>\n",
       "      <td>-0.149109</td>\n",
       "      <td>-0.185041</td>\n",
       "      <td>-0.239711</td>\n",
       "      <td>0.000000</td>\n",
       "    </tr>\n",
       "    <tr>\n",
       "      <th>25%</th>\n",
       "      <td>-0.008880</td>\n",
       "      <td>-0.008409</td>\n",
       "      <td>-0.008510</td>\n",
       "      <td>-8.872927e-03</td>\n",
       "      <td>-8.683706e-03</td>\n",
       "      <td>-0.009016</td>\n",
       "      <td>-8.697229e-03</td>\n",
       "      <td>-8.425944e-03</td>\n",
       "      <td>-8.296891e-03</td>\n",
       "      <td>-0.008705</td>\n",
       "      <td>...</td>\n",
       "      <td>-0.008948</td>\n",
       "      <td>-0.009055</td>\n",
       "      <td>-0.008167</td>\n",
       "      <td>-0.008997</td>\n",
       "      <td>-0.008965</td>\n",
       "      <td>-8.153697e-03</td>\n",
       "      <td>-0.008501</td>\n",
       "      <td>-0.009011</td>\n",
       "      <td>-0.008921</td>\n",
       "      <td>0.000000</td>\n",
       "    </tr>\n",
       "    <tr>\n",
       "      <th>50%</th>\n",
       "      <td>0.000000</td>\n",
       "      <td>0.000000</td>\n",
       "      <td>0.000000</td>\n",
       "      <td>1.000000e-10</td>\n",
       "      <td>1.500000e-10</td>\n",
       "      <td>0.000000</td>\n",
       "      <td>1.000000e-10</td>\n",
       "      <td>5.000000e-10</td>\n",
       "      <td>1.000000e-10</td>\n",
       "      <td>0.000000</td>\n",
       "      <td>...</td>\n",
       "      <td>0.000000</td>\n",
       "      <td>-0.000000</td>\n",
       "      <td>0.000360</td>\n",
       "      <td>0.000000</td>\n",
       "      <td>0.000000</td>\n",
       "      <td>1.000000e-10</td>\n",
       "      <td>0.000000</td>\n",
       "      <td>0.000000</td>\n",
       "      <td>-0.000000</td>\n",
       "      <td>0.000000</td>\n",
       "    </tr>\n",
       "    <tr>\n",
       "      <th>75%</th>\n",
       "      <td>0.009719</td>\n",
       "      <td>0.010044</td>\n",
       "      <td>0.009643</td>\n",
       "      <td>9.812382e-03</td>\n",
       "      <td>1.003389e-02</td>\n",
       "      <td>0.009271</td>\n",
       "      <td>1.018698e-02</td>\n",
       "      <td>1.067033e-02</td>\n",
       "      <td>9.931832e-03</td>\n",
       "      <td>0.009547</td>\n",
       "      <td>...</td>\n",
       "      <td>0.009287</td>\n",
       "      <td>0.009685</td>\n",
       "      <td>0.010718</td>\n",
       "      <td>0.009564</td>\n",
       "      <td>0.009604</td>\n",
       "      <td>1.007285e-02</td>\n",
       "      <td>0.009921</td>\n",
       "      <td>0.009582</td>\n",
       "      <td>0.009870</td>\n",
       "      <td>1.000000</td>\n",
       "    </tr>\n",
       "    <tr>\n",
       "      <th>max</th>\n",
       "      <td>0.230594</td>\n",
       "      <td>0.404144</td>\n",
       "      <td>0.247719</td>\n",
       "      <td>1.979167e-01</td>\n",
       "      <td>2.180451e-01</td>\n",
       "      <td>0.305483</td>\n",
       "      <td>2.560722e-01</td>\n",
       "      <td>2.219020e-01</td>\n",
       "      <td>1.985068e-01</td>\n",
       "      <td>0.280512</td>\n",
       "      <td>...</td>\n",
       "      <td>0.210317</td>\n",
       "      <td>0.265522</td>\n",
       "      <td>0.171965</td>\n",
       "      <td>0.343498</td>\n",
       "      <td>0.154339</td>\n",
       "      <td>2.005155e-01</td>\n",
       "      <td>0.174033</td>\n",
       "      <td>0.587822</td>\n",
       "      <td>0.287783</td>\n",
       "      <td>1.000000</td>\n",
       "    </tr>\n",
       "  </tbody>\n",
       "</table>\n",
       "<p>8 rows × 254 columns</p>\n",
       "</div>"
      ],
      "text/plain": [
       "                 0            1            2             3             4  \\\n",
       "count  5000.000000  5000.000000  5000.000000  5.000000e+03  5.000000e+03   \n",
       "mean      0.000486     0.001032     0.001140  7.375817e-04  4.459286e-04   \n",
       "std       0.022064     0.024896     0.022821  2.281738e-02  2.269435e-02   \n",
       "min      -0.193774    -0.191102    -0.139600 -3.816964e-01 -2.283394e-01   \n",
       "25%      -0.008880    -0.008409    -0.008510 -8.872927e-03 -8.683706e-03   \n",
       "50%       0.000000     0.000000     0.000000  1.000000e-10  1.500000e-10   \n",
       "75%       0.009719     0.010044     0.009643  9.812382e-03  1.003389e-02   \n",
       "max       0.230594     0.404144     0.247719  1.979167e-01  2.180451e-01   \n",
       "\n",
       "                 5             6             7             8            9  \\\n",
       "count  5000.000000  5.000000e+03  5.000000e+03  5.000000e+03  5000.000000   \n",
       "mean      0.000237  8.479412e-04  1.308039e-03  9.231755e-04     0.000316   \n",
       "std       0.023668  2.315789e-02  2.310966e-02  2.291001e-02     0.022837   \n",
       "min      -0.232066 -2.335412e-01 -1.844170e-01 -2.428337e-01    -0.182250   \n",
       "25%      -0.009016 -8.697229e-03 -8.425944e-03 -8.296891e-03    -0.008705   \n",
       "50%       0.000000  1.000000e-10  5.000000e-10  1.000000e-10     0.000000   \n",
       "75%       0.009271  1.018698e-02  1.067033e-02  9.931832e-03     0.009547   \n",
       "max       0.305483  2.560722e-01  2.219020e-01  1.985068e-01     0.280512   \n",
       "\n",
       "       ...          244          245          246          247          248  \\\n",
       "count  ...  5000.000000  5000.000000  5000.000000  5000.000000  5000.000000   \n",
       "mean   ...     0.000285     0.000430     0.001387     0.000536     0.000192   \n",
       "std    ...     0.021994     0.022217     0.022296     0.023514     0.021520   \n",
       "min    ...    -0.337433    -0.137577    -0.179889    -0.227332    -0.138384   \n",
       "25%    ...    -0.008948    -0.009055    -0.008167    -0.008997    -0.008965   \n",
       "50%    ...     0.000000    -0.000000     0.000360     0.000000     0.000000   \n",
       "75%    ...     0.009287     0.009685     0.010718     0.009564     0.009604   \n",
       "max    ...     0.210317     0.265522     0.171965     0.343498     0.154339   \n",
       "\n",
       "                249          250          251          252        Class  \n",
       "count  5.000000e+03  5000.000000  5000.000000  5000.000000  5000.000000  \n",
       "mean   9.216463e-04     0.000796     0.000325     0.000477     0.489400  \n",
       "std    2.250196e-02     0.021300     0.023569     0.023480     0.499938  \n",
       "min   -2.072785e-01    -0.149109    -0.185041    -0.239711     0.000000  \n",
       "25%   -8.153697e-03    -0.008501    -0.009011    -0.008921     0.000000  \n",
       "50%    1.000000e-10     0.000000     0.000000    -0.000000     0.000000  \n",
       "75%    1.007285e-02     0.009921     0.009582     0.009870     1.000000  \n",
       "max    2.005155e-01     0.174033     0.587822     0.287783     1.000000  \n",
       "\n",
       "[8 rows x 254 columns]"
      ]
     },
     "execution_count": 3,
     "metadata": {},
     "output_type": "execute_result"
    }
   ],
   "source": [
    "df1.describe()"
   ]
  },
  {
   "cell_type": "code",
   "execution_count": 4,
   "metadata": {},
   "outputs": [
    {
     "data": {
      "text/plain": [
       "count    5000.000000\n",
       "mean        0.002544\n",
       "std         0.025137\n",
       "min        -0.246661\n",
       "25%        -0.008632\n",
       "50%         0.000012\n",
       "75%         0.013570\n",
       "max         0.289092\n",
       "dtype: float64"
      ]
     },
     "execution_count": 4,
     "metadata": {},
     "output_type": "execute_result"
    }
   ],
   "source": [
    "df1.describe().mean(axis=1)"
   ]
  },
  {
   "cell_type": "code",
   "execution_count": 5,
   "metadata": {},
   "outputs": [],
   "source": [
    "x_tr=df1.drop(columns=['Class'])\n",
    "y_tr=df1['Class']"
   ]
  },
  {
   "cell_type": "code",
   "execution_count": 6,
   "metadata": {},
   "outputs": [
    {
     "data": {
      "image/png": "[encoded data removed]",
      "text/plain": [
       "<Figure size 432x288 with 1 Axes>"
      ]
     },
     "metadata": {
      "needs_background": "light"
     },
     "output_type": "display_data"
    },
    {
     "name": "stdout",
     "output_type": "stream",
     "text": [
      "La línea azul corresponde a una serie: 1.0\n",
      "La línea verde corresponde a una serie: 0.0\n"
     ]
    }
   ],
   "source": [
    "x=df1.iloc[500].values\n",
    "x1=df1.iloc[4001].values\n",
    "\n",
    "plt.plot(x[:len(x)-1], label='Serie real')\n",
    "plt.plot(x1[:len(x)-1],c='g', label='Serie sintética')\n",
    "plt.ylabel('Valores')\n",
    "plt.xlabel('Muestras')\n",
    "plt.legend()\n",
    "plt.show()\n",
    "\n",
    "print('La línea azul corresponde a una serie:', x[-1])\n",
    "print('La línea verde corresponde a una serie:', x1[-1])"
   ]
  },
  {
   "cell_type": "markdown",
   "metadata": {},
   "source": [
    "### Decision tree\n",
    "\n",
    "En este apartado, hemos separado los datos del entrenamiento en dos grupos:\n",
    "    * Train (75%)\n",
    "    * Test (25%)\n",
    "\n",
    "Una vez hecha esta separación, creamos un árbol de decisión con una profundidad máxima de 7 y un mínimo de 95 muestras por nodo. Como podemos comprobar, la precisión del modelo sobre el Train es de un 62.5% y 53.6% sobre el Test. Esta precisión se podría mejorar sobre el Train si aumentamos la profundidad, pero no nos interesa para no tener overfitting.  \n",
    "\n",
    "Por último, realizamos una representación del árbol de decisión donde podemos comprobar las decisiones que toma el algoritmo. Como se muestra en la tabla inferior, la precisión de este algoritmo se asemeja a una distribución binomial. Por tanto, podemos afirmar que es un algoritmo ineficiente.\n",
    "\n",
    "| Grupo | Precisión |\n",
    "|:----------:|:-----:|\n",
    "| Train | 62.5 % |\n",
    "| Test | 53.6 % |"
   ]
  },
  {
   "cell_type": "code",
   "execution_count": 7,
   "metadata": {},
   "outputs": [],
   "source": [
    "from sklearn.model_selection import train_test_split\n",
    "from sklearn.tree import DecisionTreeClassifier,export_graphviz\n",
    "import graphviz\n",
    "from sklearn.metrics import roc_auc_score, accuracy_score"
   ]
  },
  {
   "cell_type": "code",
   "execution_count": 8,
   "metadata": {},
   "outputs": [],
   "source": [
    "X_train, X_test, y_train, y_test = train_test_split(x_tr, y_tr, random_state=1, shuffle=False )"
   ]
  },
  {
   "cell_type": "code",
   "execution_count": 9,
   "metadata": {},
   "outputs": [
    {
     "data": {
      "text/plain": [
       "DecisionTreeClassifier(class_weight=None, criterion='gini', max_depth=7,\n",
       "                       max_features=None, max_leaf_nodes=None,\n",
       "                       min_impurity_decrease=0.0, min_impurity_split=None,\n",
       "                       min_samples_leaf=95, min_samples_split=2,\n",
       "                       min_weight_fraction_leaf=0.0, presort=False,\n",
       "                       random_state=0, splitter='best')"
      ]
     },
     "execution_count": 9,
     "metadata": {},
     "output_type": "execute_result"
    }
   ],
   "source": [
    "tree = DecisionTreeClassifier(max_depth=7, random_state=0,min_samples_leaf=95)\n",
    "\n",
    "tree.fit(X_train, y_train)"
   ]
  },
  {
   "cell_type": "code",
   "execution_count": 10,
   "metadata": {},
   "outputs": [
    {
     "name": "stdout",
     "output_type": "stream",
     "text": [
      "Precisión modelo train/test  0.625/0.536\n"
     ]
    }
   ],
   "source": [
    "y_train_pred = tree.predict_proba(X_train)\n",
    "y_test_pred = tree.predict_proba(X_test)\n",
    "tree_train = roc_auc_score(y_train, y_train_pred[:, 1])\n",
    "tree_test = roc_auc_score(y_test, y_test_pred[:, 1])\n",
    "print('Precisión modelo train/test  {0:.3f}/{1:.3f}'\n",
    "      .format(tree_train, tree_test))"
   ]
  },
  {
   "cell_type": "code",
   "execution_count": 11,
   "metadata": {},
   "outputs": [
    {
     "data": {
      "image/svg+xml": [
       "<?xml version=\"1.0\" encoding=\"UTF-8\" standalone=\"no\"?>\r\n",
       "<!DOCTYPE svg PUBLIC \"-//W3C//DTD SVG 1.1//EN\"\r\n",
       " \"http://www.w3.org/Graphics/SVG/1.1/DTD/svg11.dtd\">\r\n",
       "<!-- Generated by graphviz version 2.38.0 (20140413.2041)\r\n",
       " -->\r\n",
       "<!-- Title: Tree Pages: 1 -->\r\n",
       "<svg width=\"1039pt\" height=\"789pt\"\r\n",
       " viewBox=\"0.00 0.00 1039.00 789.00\" xmlns=\"http://www.w3.org/2000/svg\" xmlns:xlink=\"http://www.w3.org/1999/xlink\">\r\n",
       "<g id=\"graph0\" class=\"graph\" transform=\"scale(1 1) rotate(0) translate(4 785)\">\r\n",
       "<title>Tree</title>\r\n",
       "<polygon fill=\"white\" stroke=\"none\" points=\"-4,4 -4,-785 1035,-785 1035,4 -4,4\"/>\r\n",
       "<!-- 0 -->\r\n",
       "<g id=\"node1\" class=\"node\"><title>0</title>\r\n",
       "<polygon fill=\"#fffdfb\" stroke=\"black\" points=\"667.5,-781 536.5,-781 536.5,-713 667.5,-713 667.5,-781\"/>\r\n",
       "<text text-anchor=\"middle\" x=\"602\" y=\"-765.8\" font-family=\"Times New Roman,serif\" font-size=\"14.00\">183 &lt;= 0.047</text>\r\n",
       "<text text-anchor=\"middle\" x=\"602\" y=\"-750.8\" font-family=\"Times New Roman,serif\" font-size=\"14.00\">samples = 3750</text>\r\n",
       "<text text-anchor=\"middle\" x=\"602\" y=\"-735.8\" font-family=\"Times New Roman,serif\" font-size=\"14.00\">value = [1892, 1858]</text>\r\n",
       "<text text-anchor=\"middle\" x=\"602\" y=\"-720.8\" font-family=\"Times New Roman,serif\" font-size=\"14.00\">class = 0</text>\r\n",
       "</g>\r\n",
       "<!-- 1 -->\r\n",
       "<g id=\"node2\" class=\"node\"><title>1</title>\r\n",
       "<polygon fill=\"#ffffff\" stroke=\"black\" points=\"599.5,-677 468.5,-677 468.5,-609 599.5,-609 599.5,-677\"/>\r\n",
       "<text text-anchor=\"middle\" x=\"534\" y=\"-661.8\" font-family=\"Times New Roman,serif\" font-size=\"14.00\">158 &lt;= 0.014</text>\r\n",
       "<text text-anchor=\"middle\" x=\"534\" y=\"-646.8\" font-family=\"Times New Roman,serif\" font-size=\"14.00\">samples = 3652</text>\r\n",
       "<text text-anchor=\"middle\" x=\"534\" y=\"-631.8\" font-family=\"Times New Roman,serif\" font-size=\"14.00\">value = [1824, 1828]</text>\r\n",
       "<text text-anchor=\"middle\" x=\"534\" y=\"-616.8\" font-family=\"Times New Roman,serif\" font-size=\"14.00\">class = 1</text>\r\n",
       "</g>\r\n",
       "<!-- 0&#45;&gt;1 -->\r\n",
       "<g id=\"edge1\" class=\"edge\"><title>0&#45;&gt;1</title>\r\n",
       "<path fill=\"none\" stroke=\"black\" d=\"M579.922,-712.884C574.162,-704.243 567.879,-694.819 561.862,-685.793\"/>\r\n",
       "<polygon fill=\"black\" stroke=\"black\" points=\"564.659,-683.678 556.2,-677.299 558.834,-687.561 564.659,-683.678\"/>\r\n",
       "<text text-anchor=\"middle\" x=\"551.297\" y=\"-698.114\" font-family=\"Times New Roman,serif\" font-size=\"14.00\">True</text>\r\n",
       "</g>\r\n",
       "<!-- 28 -->\r\n",
       "<g id=\"node29\" class=\"node\"><title>28</title>\r\n",
       "<polygon fill=\"#f0b990\" stroke=\"black\" points=\"722,-669.5 618,-669.5 618,-616.5 722,-616.5 722,-669.5\"/>\r\n",
       "<text text-anchor=\"middle\" x=\"670\" y=\"-654.3\" font-family=\"Times New Roman,serif\" font-size=\"14.00\">samples = 98</text>\r\n",
       "<text text-anchor=\"middle\" x=\"670\" y=\"-639.3\" font-family=\"Times New Roman,serif\" font-size=\"14.00\">value = [68, 30]</text>\r\n",
       "<text text-anchor=\"middle\" x=\"670\" y=\"-624.3\" font-family=\"Times New Roman,serif\" font-size=\"14.00\">class = 0</text>\r\n",
       "</g>\r\n",
       "<!-- 0&#45;&gt;28 -->\r\n",
       "<g id=\"edge28\" class=\"edge\"><title>0&#45;&gt;28</title>\r\n",
       "<path fill=\"none\" stroke=\"black\" d=\"M624.078,-712.884C631.556,-701.666 639.916,-689.126 647.432,-677.852\"/>\r\n",
       "<polygon fill=\"black\" stroke=\"black\" points=\"650.352,-679.782 652.987,-669.52 644.527,-675.899 650.352,-679.782\"/>\r\n",
       "<text text-anchor=\"middle\" x=\"657.89\" y=\"-690.334\" font-family=\"Times New Roman,serif\" font-size=\"14.00\">False</text>\r\n",
       "</g>\r\n",
       "<!-- 2 -->\r\n",
       "<g id=\"node3\" class=\"node\"><title>2</title>\r\n",
       "<polygon fill=\"#f3f9fd\" stroke=\"black\" points=\"528.5,-573 397.5,-573 397.5,-505 528.5,-505 528.5,-573\"/>\r\n",
       "<text text-anchor=\"middle\" x=\"463\" y=\"-557.8\" font-family=\"Times New Roman,serif\" font-size=\"14.00\">140 &lt;= &#45;0.028</text>\r\n",
       "<text text-anchor=\"middle\" x=\"463\" y=\"-542.8\" font-family=\"Times New Roman,serif\" font-size=\"14.00\">samples = 3011</text>\r\n",
       "<text text-anchor=\"middle\" x=\"463\" y=\"-527.8\" font-family=\"Times New Roman,serif\" font-size=\"14.00\">value = [1460, 1551]</text>\r\n",
       "<text text-anchor=\"middle\" x=\"463\" y=\"-512.8\" font-family=\"Times New Roman,serif\" font-size=\"14.00\">class = 1</text>\r\n",
       "</g>\r\n",
       "<!-- 1&#45;&gt;2 -->\r\n",
       "<g id=\"edge2\" class=\"edge\"><title>1&#45;&gt;2</title>\r\n",
       "<path fill=\"none\" stroke=\"black\" d=\"M510.948,-608.884C504.872,-600.154 498.239,-590.625 491.897,-581.514\"/>\r\n",
       "<polygon fill=\"black\" stroke=\"black\" points=\"494.765,-579.507 486.179,-573.299 489.019,-583.506 494.765,-579.507\"/>\r\n",
       "</g>\r\n",
       "<!-- 19 -->\r\n",
       "<g id=\"node20\" class=\"node\"><title>19</title>\r\n",
       "<polygon fill=\"#f9e1d0\" stroke=\"black\" points=\"665,-573 547,-573 547,-505 665,-505 665,-573\"/>\r\n",
       "<text text-anchor=\"middle\" x=\"606\" y=\"-557.8\" font-family=\"Times New Roman,serif\" font-size=\"14.00\">219 &lt;= &#45;0.007</text>\r\n",
       "<text text-anchor=\"middle\" x=\"606\" y=\"-542.8\" font-family=\"Times New Roman,serif\" font-size=\"14.00\">samples = 641</text>\r\n",
       "<text text-anchor=\"middle\" x=\"606\" y=\"-527.8\" font-family=\"Times New Roman,serif\" font-size=\"14.00\">value = [364, 277]</text>\r\n",
       "<text text-anchor=\"middle\" x=\"606\" y=\"-512.8\" font-family=\"Times New Roman,serif\" font-size=\"14.00\">class = 0</text>\r\n",
       "</g>\r\n",
       "<!-- 1&#45;&gt;19 -->\r\n",
       "<g id=\"edge19\" class=\"edge\"><title>1&#45;&gt;19</title>\r\n",
       "<path fill=\"none\" stroke=\"black\" d=\"M557.376,-608.884C563.538,-600.154 570.265,-590.625 576.696,-581.514\"/>\r\n",
       "<polygon fill=\"black\" stroke=\"black\" points=\"579.587,-583.487 582.495,-573.299 573.868,-579.451 579.587,-583.487\"/>\r\n",
       "</g>\r\n",
       "<!-- 3 -->\r\n",
       "<g id=\"node4\" class=\"node\"><title>3</title>\r\n",
       "<polygon fill=\"#a0d0f3\" stroke=\"black\" points=\"380.5,-461.5 269.5,-461.5 269.5,-408.5 380.5,-408.5 380.5,-461.5\"/>\r\n",
       "<text text-anchor=\"middle\" x=\"325\" y=\"-446.3\" font-family=\"Times New Roman,serif\" font-size=\"14.00\">samples = 169</text>\r\n",
       "<text text-anchor=\"middle\" x=\"325\" y=\"-431.3\" font-family=\"Times New Roman,serif\" font-size=\"14.00\">value = [58, 111]</text>\r\n",
       "<text text-anchor=\"middle\" x=\"325\" y=\"-416.3\" font-family=\"Times New Roman,serif\" font-size=\"14.00\">class = 1</text>\r\n",
       "</g>\r\n",
       "<!-- 2&#45;&gt;3 -->\r\n",
       "<g id=\"edge3\" class=\"edge\"><title>2&#45;&gt;3</title>\r\n",
       "<path fill=\"none\" stroke=\"black\" d=\"M418.195,-504.884C401.977,-492.896 383.716,-479.399 367.685,-467.549\"/>\r\n",
       "<polygon fill=\"black\" stroke=\"black\" points=\"369.649,-464.649 359.527,-461.52 365.488,-470.279 369.649,-464.649\"/>\r\n",
       "</g>\r\n",
       "<!-- 4 -->\r\n",
       "<g id=\"node5\" class=\"node\"><title>4</title>\r\n",
       "<polygon fill=\"#fafcfe\" stroke=\"black\" points=\"529.5,-469 398.5,-469 398.5,-401 529.5,-401 529.5,-469\"/>\r\n",
       "<text text-anchor=\"middle\" x=\"464\" y=\"-453.8\" font-family=\"Times New Roman,serif\" font-size=\"14.00\">226 &lt;= &#45;0.029</text>\r\n",
       "<text text-anchor=\"middle\" x=\"464\" y=\"-438.8\" font-family=\"Times New Roman,serif\" font-size=\"14.00\">samples = 2842</text>\r\n",
       "<text text-anchor=\"middle\" x=\"464\" y=\"-423.8\" font-family=\"Times New Roman,serif\" font-size=\"14.00\">value = [1402, 1440]</text>\r\n",
       "<text text-anchor=\"middle\" x=\"464\" y=\"-408.8\" font-family=\"Times New Roman,serif\" font-size=\"14.00\">class = 1</text>\r\n",
       "</g>\r\n",
       "<!-- 2&#45;&gt;4 -->\r\n",
       "<g id=\"edge4\" class=\"edge\"><title>2&#45;&gt;4</title>\r\n",
       "<path fill=\"none\" stroke=\"black\" d=\"M463.325,-504.884C463.404,-496.778 463.49,-487.982 463.574,-479.472\"/>\r\n",
       "<polygon fill=\"black\" stroke=\"black\" points=\"467.075,-479.333 463.674,-469.299 460.076,-479.265 467.075,-479.333\"/>\r\n",
       "</g>\r\n",
       "<!-- 5 -->\r\n",
       "<g id=\"node6\" class=\"node\"><title>5</title>\r\n",
       "<polygon fill=\"#f3c6a5\" stroke=\"black\" points=\"448,-357.5 344,-357.5 344,-304.5 448,-304.5 448,-357.5\"/>\r\n",
       "<text text-anchor=\"middle\" x=\"396\" y=\"-342.3\" font-family=\"Times New Roman,serif\" font-size=\"14.00\">samples = 147</text>\r\n",
       "<text text-anchor=\"middle\" x=\"396\" y=\"-327.3\" font-family=\"Times New Roman,serif\" font-size=\"14.00\">value = [95, 52]</text>\r\n",
       "<text text-anchor=\"middle\" x=\"396\" y=\"-312.3\" font-family=\"Times New Roman,serif\" font-size=\"14.00\">class = 0</text>\r\n",
       "</g>\r\n",
       "<!-- 4&#45;&gt;5 -->\r\n",
       "<g id=\"edge5\" class=\"edge\"><title>4&#45;&gt;5</title>\r\n",
       "<path fill=\"none\" stroke=\"black\" d=\"M441.922,-400.884C434.444,-389.666 426.084,-377.126 418.568,-365.852\"/>\r\n",
       "<polygon fill=\"black\" stroke=\"black\" points=\"421.473,-363.899 413.013,-357.52 415.648,-367.782 421.473,-363.899\"/>\r\n",
       "</g>\r\n",
       "<!-- 6 -->\r\n",
       "<g id=\"node7\" class=\"node\"><title>6</title>\r\n",
       "<polygon fill=\"#f3f9fd\" stroke=\"black\" points=\"597.5,-365 466.5,-365 466.5,-297 597.5,-297 597.5,-365\"/>\r\n",
       "<text text-anchor=\"middle\" x=\"532\" y=\"-349.8\" font-family=\"Times New Roman,serif\" font-size=\"14.00\">39 &lt;= 0.016</text>\r\n",
       "<text text-anchor=\"middle\" x=\"532\" y=\"-334.8\" font-family=\"Times New Roman,serif\" font-size=\"14.00\">samples = 2695</text>\r\n",
       "<text text-anchor=\"middle\" x=\"532\" y=\"-319.8\" font-family=\"Times New Roman,serif\" font-size=\"14.00\">value = [1307, 1388]</text>\r\n",
       "<text text-anchor=\"middle\" x=\"532\" y=\"-304.8\" font-family=\"Times New Roman,serif\" font-size=\"14.00\">class = 1</text>\r\n",
       "</g>\r\n",
       "<!-- 4&#45;&gt;6 -->\r\n",
       "<g id=\"edge6\" class=\"edge\"><title>4&#45;&gt;6</title>\r\n",
       "<path fill=\"none\" stroke=\"black\" d=\"M486.078,-400.884C491.838,-392.243 498.121,-382.819 504.138,-373.793\"/>\r\n",
       "<polygon fill=\"black\" stroke=\"black\" points=\"507.166,-375.561 509.8,-365.299 501.341,-371.678 507.166,-375.561\"/>\r\n",
       "</g>\r\n",
       "<!-- 7 -->\r\n",
       "<g id=\"node8\" class=\"node\"><title>7</title>\r\n",
       "<polygon fill=\"#e8f3fc\" stroke=\"black\" points=\"434.5,-261 303.5,-261 303.5,-193 434.5,-193 434.5,-261\"/>\r\n",
       "<text text-anchor=\"middle\" x=\"369\" y=\"-245.8\" font-family=\"Times New Roman,serif\" font-size=\"14.00\">9 &lt;= &#45;0.016</text>\r\n",
       "<text text-anchor=\"middle\" x=\"369\" y=\"-230.8\" font-family=\"Times New Roman,serif\" font-size=\"14.00\">samples = 2275</text>\r\n",
       "<text text-anchor=\"middle\" x=\"369\" y=\"-215.8\" font-family=\"Times New Roman,serif\" font-size=\"14.00\">value = [1066, 1209]</text>\r\n",
       "<text text-anchor=\"middle\" x=\"369\" y=\"-200.8\" font-family=\"Times New Roman,serif\" font-size=\"14.00\">class = 1</text>\r\n",
       "</g>\r\n",
       "<!-- 6&#45;&gt;7 -->\r\n",
       "<g id=\"edge7\" class=\"edge\"><title>6&#45;&gt;7</title>\r\n",
       "<path fill=\"none\" stroke=\"black\" d=\"M479.079,-296.884C463.627,-287.214 446.606,-276.563 430.664,-266.587\"/>\r\n",
       "<polygon fill=\"black\" stroke=\"black\" points=\"432.268,-263.462 421.935,-261.125 428.555,-269.396 432.268,-263.462\"/>\r\n",
       "</g>\r\n",
       "<!-- 14 -->\r\n",
       "<g id=\"node15\" class=\"node\"><title>14</title>\r\n",
       "<polygon fill=\"#f8dfcc\" stroke=\"black\" points=\"627,-261 509,-261 509,-193 627,-193 627,-261\"/>\r\n",
       "<text text-anchor=\"middle\" x=\"568\" y=\"-245.8\" font-family=\"Times New Roman,serif\" font-size=\"14.00\">164 &lt;= 0.006</text>\r\n",
       "<text text-anchor=\"middle\" x=\"568\" y=\"-230.8\" font-family=\"Times New Roman,serif\" font-size=\"14.00\">samples = 420</text>\r\n",
       "<text text-anchor=\"middle\" x=\"568\" y=\"-215.8\" font-family=\"Times New Roman,serif\" font-size=\"14.00\">value = [241, 179]</text>\r\n",
       "<text text-anchor=\"middle\" x=\"568\" y=\"-200.8\" font-family=\"Times New Roman,serif\" font-size=\"14.00\">class = 0</text>\r\n",
       "</g>\r\n",
       "<!-- 6&#45;&gt;14 -->\r\n",
       "<g id=\"edge14\" class=\"edge\"><title>6&#45;&gt;14</title>\r\n",
       "<path fill=\"none\" stroke=\"black\" d=\"M543.688,-296.884C546.612,-288.6 549.79,-279.595 552.855,-270.911\"/>\r\n",
       "<polygon fill=\"black\" stroke=\"black\" points=\"556.219,-271.894 556.247,-261.299 549.619,-269.564 556.219,-271.894\"/>\r\n",
       "</g>\r\n",
       "<!-- 8 -->\r\n",
       "<g id=\"node9\" class=\"node\"><title>8</title>\r\n",
       "<polygon fill=\"#f8e0ce\" stroke=\"black\" points=\"233,-157 115,-157 115,-89 233,-89 233,-157\"/>\r\n",
       "<text text-anchor=\"middle\" x=\"174\" y=\"-141.8\" font-family=\"Times New Roman,serif\" font-size=\"14.00\">156 &lt;= 0.0</text>\r\n",
       "<text text-anchor=\"middle\" x=\"174\" y=\"-126.8\" font-family=\"Times New Roman,serif\" font-size=\"14.00\">samples = 294</text>\r\n",
       "<text text-anchor=\"middle\" x=\"174\" y=\"-111.8\" font-family=\"Times New Roman,serif\" font-size=\"14.00\">value = [168, 126]</text>\r\n",
       "<text text-anchor=\"middle\" x=\"174\" y=\"-96.8\" font-family=\"Times New Roman,serif\" font-size=\"14.00\">class = 0</text>\r\n",
       "</g>\r\n",
       "<!-- 7&#45;&gt;8 -->\r\n",
       "<g id=\"edge8\" class=\"edge\"><title>7&#45;&gt;8</title>\r\n",
       "<path fill=\"none\" stroke=\"black\" d=\"M305.689,-192.884C285.346,-182.242 262.729,-170.412 242.06,-159.6\"/>\r\n",
       "<polygon fill=\"black\" stroke=\"black\" points=\"243.509,-156.408 233.025,-154.875 240.264,-162.611 243.509,-156.408\"/>\r\n",
       "</g>\r\n",
       "<!-- 11 -->\r\n",
       "<g id=\"node12\" class=\"node\"><title>11</title>\r\n",
       "<polygon fill=\"#ddeefb\" stroke=\"black\" points=\"431.5,-157 306.5,-157 306.5,-89 431.5,-89 431.5,-157\"/>\r\n",
       "<text text-anchor=\"middle\" x=\"369\" y=\"-141.8\" font-family=\"Times New Roman,serif\" font-size=\"14.00\">9 &lt;= 0.006</text>\r\n",
       "<text text-anchor=\"middle\" x=\"369\" y=\"-126.8\" font-family=\"Times New Roman,serif\" font-size=\"14.00\">samples = 1981</text>\r\n",
       "<text text-anchor=\"middle\" x=\"369\" y=\"-111.8\" font-family=\"Times New Roman,serif\" font-size=\"14.00\">value = [898, 1083]</text>\r\n",
       "<text text-anchor=\"middle\" x=\"369\" y=\"-96.8\" font-family=\"Times New Roman,serif\" font-size=\"14.00\">class = 1</text>\r\n",
       "</g>\r\n",
       "<!-- 7&#45;&gt;11 -->\r\n",
       "<g id=\"edge11\" class=\"edge\"><title>7&#45;&gt;11</title>\r\n",
       "<path fill=\"none\" stroke=\"black\" d=\"M369,-192.884C369,-184.778 369,-175.982 369,-167.472\"/>\r\n",
       "<polygon fill=\"black\" stroke=\"black\" points=\"372.5,-167.299 369,-157.299 365.5,-167.299 372.5,-167.299\"/>\r\n",
       "</g>\r\n",
       "<!-- 9 -->\r\n",
       "<g id=\"node10\" class=\"node\"><title>9</title>\r\n",
       "<polygon fill=\"#f2bf9b\" stroke=\"black\" points=\"104,-53 0,-53 0,-0 104,-0 104,-53\"/>\r\n",
       "<text text-anchor=\"middle\" x=\"52\" y=\"-37.8\" font-family=\"Times New Roman,serif\" font-size=\"14.00\">samples = 142</text>\r\n",
       "<text text-anchor=\"middle\" x=\"52\" y=\"-22.8\" font-family=\"Times New Roman,serif\" font-size=\"14.00\">value = [95, 47]</text>\r\n",
       "<text text-anchor=\"middle\" x=\"52\" y=\"-7.8\" font-family=\"Times New Roman,serif\" font-size=\"14.00\">class = 0</text>\r\n",
       "</g>\r\n",
       "<!-- 8&#45;&gt;9 -->\r\n",
       "<g id=\"edge9\" class=\"edge\"><title>8&#45;&gt;9</title>\r\n",
       "<path fill=\"none\" stroke=\"black\" d=\"M131.33,-88.9485C119.048,-79.4346 105.672,-69.074 93.4639,-59.6175\"/>\r\n",
       "<polygon fill=\"black\" stroke=\"black\" points=\"95.2753,-56.5934 85.2262,-53.2367 90.9887,-62.1274 95.2753,-56.5934\"/>\r\n",
       "</g>\r\n",
       "<!-- 10 -->\r\n",
       "<g id=\"node11\" class=\"node\"><title>10</title>\r\n",
       "<polygon fill=\"#f0f8fd\" stroke=\"black\" points=\"226,-53 122,-53 122,-0 226,-0 226,-53\"/>\r\n",
       "<text text-anchor=\"middle\" x=\"174\" y=\"-37.8\" font-family=\"Times New Roman,serif\" font-size=\"14.00\">samples = 152</text>\r\n",
       "<text text-anchor=\"middle\" x=\"174\" y=\"-22.8\" font-family=\"Times New Roman,serif\" font-size=\"14.00\">value = [73, 79]</text>\r\n",
       "<text text-anchor=\"middle\" x=\"174\" y=\"-7.8\" font-family=\"Times New Roman,serif\" font-size=\"14.00\">class = 1</text>\r\n",
       "</g>\r\n",
       "<!-- 8&#45;&gt;10 -->\r\n",
       "<g id=\"edge10\" class=\"edge\"><title>8&#45;&gt;10</title>\r\n",
       "<path fill=\"none\" stroke=\"black\" d=\"M174,-88.9485C174,-80.7153 174,-71.848 174,-63.4814\"/>\r\n",
       "<polygon fill=\"black\" stroke=\"black\" points=\"177.5,-63.2367 174,-53.2367 170.5,-63.2367 177.5,-63.2367\"/>\r\n",
       "</g>\r\n",
       "<!-- 12 -->\r\n",
       "<g id=\"node13\" class=\"node\"><title>12</title>\r\n",
       "<polygon fill=\"#cae5f8\" stroke=\"black\" points=\"362,-53 244,-53 244,-0 362,-0 362,-53\"/>\r\n",
       "<text text-anchor=\"middle\" x=\"303\" y=\"-37.8\" font-family=\"Times New Roman,serif\" font-size=\"14.00\">samples = 1240</text>\r\n",
       "<text text-anchor=\"middle\" x=\"303\" y=\"-22.8\" font-family=\"Times New Roman,serif\" font-size=\"14.00\">value = [524, 716]</text>\r\n",
       "<text text-anchor=\"middle\" x=\"303\" y=\"-7.8\" font-family=\"Times New Roman,serif\" font-size=\"14.00\">class = 1</text>\r\n",
       "</g>\r\n",
       "<!-- 11&#45;&gt;12 -->\r\n",
       "<g id=\"edge12\" class=\"edge\"><title>11&#45;&gt;12</title>\r\n",
       "<path fill=\"none\" stroke=\"black\" d=\"M345.916,-88.9485C339.719,-80.0749 333.007,-70.4648 326.773,-61.5388\"/>\r\n",
       "<polygon fill=\"black\" stroke=\"black\" points=\"329.57,-59.4311 320.975,-53.2367 323.831,-63.4392 329.57,-59.4311\"/>\r\n",
       "</g>\r\n",
       "<!-- 13 -->\r\n",
       "<g id=\"node14\" class=\"node\"><title>13</title>\r\n",
       "<polygon fill=\"#fffdfb\" stroke=\"black\" points=\"498,-53 380,-53 380,-0 498,-0 498,-53\"/>\r\n",
       "<text text-anchor=\"middle\" x=\"439\" y=\"-37.8\" font-family=\"Times New Roman,serif\" font-size=\"14.00\">samples = 741</text>\r\n",
       "<text text-anchor=\"middle\" x=\"439\" y=\"-22.8\" font-family=\"Times New Roman,serif\" font-size=\"14.00\">value = [374, 367]</text>\r\n",
       "<text text-anchor=\"middle\" x=\"439\" y=\"-7.8\" font-family=\"Times New Roman,serif\" font-size=\"14.00\">class = 0</text>\r\n",
       "</g>\r\n",
       "<!-- 11&#45;&gt;13 -->\r\n",
       "<g id=\"edge13\" class=\"edge\"><title>11&#45;&gt;13</title>\r\n",
       "<path fill=\"none\" stroke=\"black\" d=\"M393.483,-88.9485C400.056,-80.0749 407.174,-70.4648 413.786,-61.5388\"/>\r\n",
       "<polygon fill=\"black\" stroke=\"black\" points=\"416.796,-63.3556 419.936,-53.2367 411.171,-59.189 416.796,-63.3556\"/>\r\n",
       "</g>\r\n",
       "<!-- 15 -->\r\n",
       "<g id=\"node16\" class=\"node\"><title>15</title>\r\n",
       "<polygon fill=\"#fdf8f4\" stroke=\"black\" points=\"627,-157 509,-157 509,-89 627,-89 627,-157\"/>\r\n",
       "<text text-anchor=\"middle\" x=\"568\" y=\"-141.8\" font-family=\"Times New Roman,serif\" font-size=\"14.00\">2 &lt;= 0.0</text>\r\n",
       "<text text-anchor=\"middle\" x=\"568\" y=\"-126.8\" font-family=\"Times New Roman,serif\" font-size=\"14.00\">samples = 301</text>\r\n",
       "<text text-anchor=\"middle\" x=\"568\" y=\"-111.8\" font-family=\"Times New Roman,serif\" font-size=\"14.00\">value = [155, 146]</text>\r\n",
       "<text text-anchor=\"middle\" x=\"568\" y=\"-96.8\" font-family=\"Times New Roman,serif\" font-size=\"14.00\">class = 0</text>\r\n",
       "</g>\r\n",
       "<!-- 14&#45;&gt;15 -->\r\n",
       "<g id=\"edge15\" class=\"edge\"><title>14&#45;&gt;15</title>\r\n",
       "<path fill=\"none\" stroke=\"black\" d=\"M568,-192.884C568,-184.778 568,-175.982 568,-167.472\"/>\r\n",
       "<polygon fill=\"black\" stroke=\"black\" points=\"571.5,-167.299 568,-157.299 564.5,-167.299 571.5,-167.299\"/>\r\n",
       "</g>\r\n",
       "<!-- 18 -->\r\n",
       "<g id=\"node19\" class=\"node\"><title>18</title>\r\n",
       "<polygon fill=\"#efb185\" stroke=\"black\" points=\"749,-149.5 645,-149.5 645,-96.5 749,-96.5 749,-149.5\"/>\r\n",
       "<text text-anchor=\"middle\" x=\"697\" y=\"-134.3\" font-family=\"Times New Roman,serif\" font-size=\"14.00\">samples = 119</text>\r\n",
       "<text text-anchor=\"middle\" x=\"697\" y=\"-119.3\" font-family=\"Times New Roman,serif\" font-size=\"14.00\">value = [86, 33]</text>\r\n",
       "<text text-anchor=\"middle\" x=\"697\" y=\"-104.3\" font-family=\"Times New Roman,serif\" font-size=\"14.00\">class = 0</text>\r\n",
       "</g>\r\n",
       "<!-- 14&#45;&gt;18 -->\r\n",
       "<g id=\"edge18\" class=\"edge\"><title>14&#45;&gt;18</title>\r\n",
       "<path fill=\"none\" stroke=\"black\" d=\"M609.883,-192.884C624.904,-181.006 641.8,-167.646 656.686,-155.876\"/>\r\n",
       "<polygon fill=\"black\" stroke=\"black\" points=\"659.051,-158.468 664.725,-149.52 654.71,-152.977 659.051,-158.468\"/>\r\n",
       "</g>\r\n",
       "<!-- 16 -->\r\n",
       "<g id=\"node17\" class=\"node\"><title>16</title>\r\n",
       "<polygon fill=\"#b9ddf6\" stroke=\"black\" points=\"620,-53 516,-53 516,-0 620,-0 620,-53\"/>\r\n",
       "<text text-anchor=\"middle\" x=\"568\" y=\"-37.8\" font-family=\"Times New Roman,serif\" font-size=\"14.00\">samples = 150</text>\r\n",
       "<text text-anchor=\"middle\" x=\"568\" y=\"-22.8\" font-family=\"Times New Roman,serif\" font-size=\"14.00\">value = [59, 91]</text>\r\n",
       "<text text-anchor=\"middle\" x=\"568\" y=\"-7.8\" font-family=\"Times New Roman,serif\" font-size=\"14.00\">class = 1</text>\r\n",
       "</g>\r\n",
       "<!-- 15&#45;&gt;16 -->\r\n",
       "<g id=\"edge16\" class=\"edge\"><title>15&#45;&gt;16</title>\r\n",
       "<path fill=\"none\" stroke=\"black\" d=\"M568,-88.9485C568,-80.7153 568,-71.848 568,-63.4814\"/>\r\n",
       "<polygon fill=\"black\" stroke=\"black\" points=\"571.5,-63.2367 568,-53.2367 564.5,-63.2367 571.5,-63.2367\"/>\r\n",
       "</g>\r\n",
       "<!-- 17 -->\r\n",
       "<g id=\"node18\" class=\"node\"><title>17</title>\r\n",
       "<polygon fill=\"#f4c9aa\" stroke=\"black\" points=\"742,-53 638,-53 638,-0 742,-0 742,-53\"/>\r\n",
       "<text text-anchor=\"middle\" x=\"690\" y=\"-37.8\" font-family=\"Times New Roman,serif\" font-size=\"14.00\">samples = 151</text>\r\n",
       "<text text-anchor=\"middle\" x=\"690\" y=\"-22.8\" font-family=\"Times New Roman,serif\" font-size=\"14.00\">value = [96, 55]</text>\r\n",
       "<text text-anchor=\"middle\" x=\"690\" y=\"-7.8\" font-family=\"Times New Roman,serif\" font-size=\"14.00\">class = 0</text>\r\n",
       "</g>\r\n",
       "<!-- 15&#45;&gt;17 -->\r\n",
       "<g id=\"edge17\" class=\"edge\"><title>15&#45;&gt;17</title>\r\n",
       "<path fill=\"none\" stroke=\"black\" d=\"M610.67,-88.9485C622.952,-79.4346 636.328,-69.074 648.536,-59.6175\"/>\r\n",
       "<polygon fill=\"black\" stroke=\"black\" points=\"651.011,-62.1274 656.774,-53.2367 646.725,-56.5934 651.011,-62.1274\"/>\r\n",
       "</g>\r\n",
       "<!-- 20 -->\r\n",
       "<g id=\"node21\" class=\"node\"><title>20</title>\r\n",
       "<polygon fill=\"#f0b990\" stroke=\"black\" points=\"660.5,-461.5 549.5,-461.5 549.5,-408.5 660.5,-408.5 660.5,-461.5\"/>\r\n",
       "<text text-anchor=\"middle\" x=\"605\" y=\"-446.3\" font-family=\"Times New Roman,serif\" font-size=\"14.00\">samples = 186</text>\r\n",
       "<text text-anchor=\"middle\" x=\"605\" y=\"-431.3\" font-family=\"Times New Roman,serif\" font-size=\"14.00\">value = [129, 57]</text>\r\n",
       "<text text-anchor=\"middle\" x=\"605\" y=\"-416.3\" font-family=\"Times New Roman,serif\" font-size=\"14.00\">class = 0</text>\r\n",
       "</g>\r\n",
       "<!-- 19&#45;&gt;20 -->\r\n",
       "<g id=\"edge20\" class=\"edge\"><title>19&#45;&gt;20</title>\r\n",
       "<path fill=\"none\" stroke=\"black\" d=\"M605.675,-504.884C605.572,-494.326 605.457,-482.597 605.352,-471.854\"/>\r\n",
       "<polygon fill=\"black\" stroke=\"black\" points=\"608.848,-471.485 605.25,-461.52 601.848,-471.554 608.848,-471.485\"/>\r\n",
       "</g>\r\n",
       "<!-- 21 -->\r\n",
       "<g id=\"node22\" class=\"node\"><title>21</title>\r\n",
       "<polygon fill=\"#fdf7f2\" stroke=\"black\" points=\"797,-469 679,-469 679,-401 797,-401 797,-469\"/>\r\n",
       "<text text-anchor=\"middle\" x=\"738\" y=\"-453.8\" font-family=\"Times New Roman,serif\" font-size=\"14.00\">81 &lt;= &#45;0.003</text>\r\n",
       "<text text-anchor=\"middle\" x=\"738\" y=\"-438.8\" font-family=\"Times New Roman,serif\" font-size=\"14.00\">samples = 455</text>\r\n",
       "<text text-anchor=\"middle\" x=\"738\" y=\"-423.8\" font-family=\"Times New Roman,serif\" font-size=\"14.00\">value = [235, 220]</text>\r\n",
       "<text text-anchor=\"middle\" x=\"738\" y=\"-408.8\" font-family=\"Times New Roman,serif\" font-size=\"14.00\">class = 0</text>\r\n",
       "</g>\r\n",
       "<!-- 19&#45;&gt;21 -->\r\n",
       "<g id=\"edge21\" class=\"edge\"><title>19&#45;&gt;21</title>\r\n",
       "<path fill=\"none\" stroke=\"black\" d=\"M648.857,-504.884C660.96,-495.531 674.253,-485.259 686.794,-475.568\"/>\r\n",
       "<polygon fill=\"black\" stroke=\"black\" points=\"689.134,-478.183 694.907,-469.299 684.854,-472.644 689.134,-478.183\"/>\r\n",
       "</g>\r\n",
       "<!-- 22 -->\r\n",
       "<g id=\"node23\" class=\"node\"><title>22</title>\r\n",
       "<polygon fill=\"#f4c9aa\" stroke=\"black\" points=\"726.5,-357.5 615.5,-357.5 615.5,-304.5 726.5,-304.5 726.5,-357.5\"/>\r\n",
       "<text text-anchor=\"middle\" x=\"671\" y=\"-342.3\" font-family=\"Times New Roman,serif\" font-size=\"14.00\">samples = 165</text>\r\n",
       "<text text-anchor=\"middle\" x=\"671\" y=\"-327.3\" font-family=\"Times New Roman,serif\" font-size=\"14.00\">value = [105, 60]</text>\r\n",
       "<text text-anchor=\"middle\" x=\"671\" y=\"-312.3\" font-family=\"Times New Roman,serif\" font-size=\"14.00\">class = 0</text>\r\n",
       "</g>\r\n",
       "<!-- 21&#45;&gt;22 -->\r\n",
       "<g id=\"edge22\" class=\"edge\"><title>21&#45;&gt;22</title>\r\n",
       "<path fill=\"none\" stroke=\"black\" d=\"M716.247,-400.884C708.951,-389.776 700.803,-377.372 693.454,-366.184\"/>\r\n",
       "<polygon fill=\"black\" stroke=\"black\" points=\"696.179,-363.957 687.763,-357.52 690.328,-367.8 696.179,-363.957\"/>\r\n",
       "</g>\r\n",
       "<!-- 23 -->\r\n",
       "<g id=\"node24\" class=\"node\"><title>23</title>\r\n",
       "<polygon fill=\"#daedfa\" stroke=\"black\" points=\"863,-365 745,-365 745,-297 863,-297 863,-365\"/>\r\n",
       "<text text-anchor=\"middle\" x=\"804\" y=\"-349.8\" font-family=\"Times New Roman,serif\" font-size=\"14.00\">217 &lt;= &#45;0.006</text>\r\n",
       "<text text-anchor=\"middle\" x=\"804\" y=\"-334.8\" font-family=\"Times New Roman,serif\" font-size=\"14.00\">samples = 290</text>\r\n",
       "<text text-anchor=\"middle\" x=\"804\" y=\"-319.8\" font-family=\"Times New Roman,serif\" font-size=\"14.00\">value = [130, 160]</text>\r\n",
       "<text text-anchor=\"middle\" x=\"804\" y=\"-304.8\" font-family=\"Times New Roman,serif\" font-size=\"14.00\">class = 1</text>\r\n",
       "</g>\r\n",
       "<!-- 21&#45;&gt;23 -->\r\n",
       "<g id=\"edge23\" class=\"edge\"><title>21&#45;&gt;23</title>\r\n",
       "<path fill=\"none\" stroke=\"black\" d=\"M759.428,-400.884C765.019,-392.243 771.117,-382.819 776.958,-373.793\"/>\r\n",
       "<polygon fill=\"black\" stroke=\"black\" points=\"779.959,-375.596 782.453,-365.299 774.082,-371.794 779.959,-375.596\"/>\r\n",
       "</g>\r\n",
       "<!-- 24 -->\r\n",
       "<g id=\"node25\" class=\"node\"><title>24</title>\r\n",
       "<polygon fill=\"#90c8f0\" stroke=\"black\" points=\"820,-253.5 716,-253.5 716,-200.5 820,-200.5 820,-253.5\"/>\r\n",
       "<text text-anchor=\"middle\" x=\"768\" y=\"-238.3\" font-family=\"Times New Roman,serif\" font-size=\"14.00\">samples = 95</text>\r\n",
       "<text text-anchor=\"middle\" x=\"768\" y=\"-223.3\" font-family=\"Times New Roman,serif\" font-size=\"14.00\">value = [29, 66]</text>\r\n",
       "<text text-anchor=\"middle\" x=\"768\" y=\"-208.3\" font-family=\"Times New Roman,serif\" font-size=\"14.00\">class = 1</text>\r\n",
       "</g>\r\n",
       "<!-- 23&#45;&gt;24 -->\r\n",
       "<g id=\"edge24\" class=\"edge\"><title>23&#45;&gt;24</title>\r\n",
       "<path fill=\"none\" stroke=\"black\" d=\"M792.312,-296.884C788.508,-286.106 784.273,-274.108 780.418,-263.184\"/>\r\n",
       "<polygon fill=\"black\" stroke=\"black\" points=\"783.636,-261.785 777.007,-253.52 777.035,-264.115 783.636,-261.785\"/>\r\n",
       "</g>\r\n",
       "<!-- 25 -->\r\n",
       "<g id=\"node26\" class=\"node\"><title>25</title>\r\n",
       "<polygon fill=\"#fdf6f1\" stroke=\"black\" points=\"949.5,-261 838.5,-261 838.5,-193 949.5,-193 949.5,-261\"/>\r\n",
       "<text text-anchor=\"middle\" x=\"894\" y=\"-245.8\" font-family=\"Times New Roman,serif\" font-size=\"14.00\">239 &lt;= 0.0</text>\r\n",
       "<text text-anchor=\"middle\" x=\"894\" y=\"-230.8\" font-family=\"Times New Roman,serif\" font-size=\"14.00\">samples = 195</text>\r\n",
       "<text text-anchor=\"middle\" x=\"894\" y=\"-215.8\" font-family=\"Times New Roman,serif\" font-size=\"14.00\">value = [101, 94]</text>\r\n",
       "<text text-anchor=\"middle\" x=\"894\" y=\"-200.8\" font-family=\"Times New Roman,serif\" font-size=\"14.00\">class = 0</text>\r\n",
       "</g>\r\n",
       "<!-- 23&#45;&gt;25 -->\r\n",
       "<g id=\"edge25\" class=\"edge\"><title>23&#45;&gt;25</title>\r\n",
       "<path fill=\"none\" stroke=\"black\" d=\"M833.22,-296.884C841.08,-287.976 849.675,-278.235 857.862,-268.957\"/>\r\n",
       "<polygon fill=\"black\" stroke=\"black\" points=\"860.626,-271.113 864.618,-261.299 855.378,-266.482 860.626,-271.113\"/>\r\n",
       "</g>\r\n",
       "<!-- 26 -->\r\n",
       "<g id=\"node27\" class=\"node\"><title>26</title>\r\n",
       "<polygon fill=\"#f5ceb2\" stroke=\"black\" points=\"909,-149.5 805,-149.5 805,-96.5 909,-96.5 909,-149.5\"/>\r\n",
       "<text text-anchor=\"middle\" x=\"857\" y=\"-134.3\" font-family=\"Times New Roman,serif\" font-size=\"14.00\">samples = 100</text>\r\n",
       "<text text-anchor=\"middle\" x=\"857\" y=\"-119.3\" font-family=\"Times New Roman,serif\" font-size=\"14.00\">value = [62, 38]</text>\r\n",
       "<text text-anchor=\"middle\" x=\"857\" y=\"-104.3\" font-family=\"Times New Roman,serif\" font-size=\"14.00\">class = 0</text>\r\n",
       "</g>\r\n",
       "<!-- 25&#45;&gt;26 -->\r\n",
       "<g id=\"edge26\" class=\"edge\"><title>25&#45;&gt;26</title>\r\n",
       "<path fill=\"none\" stroke=\"black\" d=\"M881.987,-192.884C878.078,-182.106 873.725,-170.108 869.763,-159.184\"/>\r\n",
       "<polygon fill=\"black\" stroke=\"black\" points=\"872.958,-157.727 866.257,-149.52 866.377,-160.114 872.958,-157.727\"/>\r\n",
       "</g>\r\n",
       "<!-- 27 -->\r\n",
       "<g id=\"node28\" class=\"node\"><title>27</title>\r\n",
       "<polygon fill=\"#c3e1f7\" stroke=\"black\" points=\"1031,-149.5 927,-149.5 927,-96.5 1031,-96.5 1031,-149.5\"/>\r\n",
       "<text text-anchor=\"middle\" x=\"979\" y=\"-134.3\" font-family=\"Times New Roman,serif\" font-size=\"14.00\">samples = 95</text>\r\n",
       "<text text-anchor=\"middle\" x=\"979\" y=\"-119.3\" font-family=\"Times New Roman,serif\" font-size=\"14.00\">value = [39, 56]</text>\r\n",
       "<text text-anchor=\"middle\" x=\"979\" y=\"-104.3\" font-family=\"Times New Roman,serif\" font-size=\"14.00\">class = 1</text>\r\n",
       "</g>\r\n",
       "<!-- 25&#45;&gt;27 -->\r\n",
       "<g id=\"edge27\" class=\"edge\"><title>25&#45;&gt;27</title>\r\n",
       "<path fill=\"none\" stroke=\"black\" d=\"M921.597,-192.884C931.037,-181.556 941.6,-168.88 951.066,-157.521\"/>\r\n",
       "<polygon fill=\"black\" stroke=\"black\" points=\"954.02,-159.443 957.733,-149.52 948.643,-154.962 954.02,-159.443\"/>\r\n",
       "</g>\r\n",
       "</g>\r\n",
       "</svg>\r\n"
      ],
      "text/plain": [
       "<graphviz.files.Source at 0x24d8d2cf320>"
      ]
     },
     "execution_count": 11,
     "metadata": {},
     "output_type": "execute_result"
    }
   ],
   "source": [
    "export_graphviz(tree, out_file=\"tree.dot\", class_names=[\"0\", \"1\"],\n",
    "feature_names=x_tr.columns.values, impurity=False, filled=True)\n",
    "\n",
    "with open(\"tree.dot\") as f:\n",
    "    dot_graph = f.read()\n",
    "graphviz.Source(dot_graph)\n"
   ]
  },
  {
   "cell_type": "markdown",
   "metadata": {},
   "source": [
    "### Adaboost\n",
    "\n",
    "En esta sección, comprobamos el algoritmo Adaptive Boosting y vemos una mejoría de la precisión en el Train hasta alcanzar un 100.0%. Sin embargo, la predicción en el Test se mantiene prácticamente constante con un 53.1%. Como comentamos en el apartado anterior esto se debe a un overfitting en el Train, que provoca una peor predicción del Test. Por tanto, podemos descartar directamente este algoritmo para este caso.\n",
    "\n",
    "| Grupo | Precisión |\n",
    "|:----------:|:-----:|\n",
    "| Train | 100.0 % |\n",
    "| Test | 53.1 % |"
   ]
  },
  {
   "cell_type": "code",
   "execution_count": 12,
   "metadata": {},
   "outputs": [],
   "source": [
    "from sklearn.ensemble import AdaBoostClassifier"
   ]
  },
  {
   "cell_type": "code",
   "execution_count": 13,
   "metadata": {},
   "outputs": [],
   "source": [
    "ada = AdaBoostClassifier(base_estimator=tree, n_estimators=50, learning_rate=.7, random_state=1)\n",
    "\n",
    "ada = ada.fit(X_train, y_train)"
   ]
  },
  {
   "cell_type": "code",
   "execution_count": 14,
   "metadata": {},
   "outputs": [
    {
     "name": "stdout",
     "output_type": "stream",
     "text": [
      "Precisión modelo train/test  1.000/0.531\n"
     ]
    }
   ],
   "source": [
    "y_train_pred = ada.predict_proba(X_train)\n",
    "y_test_pred = ada.predict_proba(X_test)\n",
    "ada_train = roc_auc_score(y_train, y_train_pred[:, 1])\n",
    "ada_test = roc_auc_score(y_test, y_test_pred[:, 1])\n",
    "print('Precisión modelo train/test  {0:.3f}/{1:.3f}'.format(ada_train, ada_test))\n"
   ]
  },
  {
   "cell_type": "markdown",
   "metadata": {},
   "source": [
    "### SVM\n",
    "\n",
    "En este apartado, implementamos Máquinas de vectores de soporte. Para ello, utilizamos Grid Search con validación cruzada con el objetivo de encontrar la mejor configuración para nuestros datos. Una vez localizados estos parámetros, los guardamos para futuras veces debido a que Grid Search consume mucho tiempo. Las precisiones obtenidas se asemejan bastante, obteniendo una precisión sobre el Train del 89.0%  y 51.7% sobre el Test. \n",
    "\n",
    "| Grupo | Precisión |\n",
    "|:----------:|:-----:|\n",
    "| Train | 89.0 % |\n",
    "| Test | 51.7 % |"
   ]
  },
  {
   "cell_type": "code",
   "execution_count": 15,
   "metadata": {},
   "outputs": [],
   "source": [
    "from sklearn import svm\n",
    "from sklearn.model_selection import cross_val_score\n",
    "from sklearn.model_selection import GridSearchCV"
   ]
  },
  {
   "cell_type": "code",
   "execution_count": 16,
   "metadata": {},
   "outputs": [],
   "source": [
    "svc=svm.SVC()\n",
    "param_grid = {'kernel':['linear','rbf','poly'], 'C':[1,10,1000], 'gamma':['scale', 'auto']}\n",
    "\n",
    "svc_cv = GridSearchCV(svc, param_grid, cv=10)"
   ]
  },
  {
   "cell_type": "code",
   "execution_count": 17,
   "metadata": {},
   "outputs": [],
   "source": [
    "# svc_cv.fit(X_train, y_train)\n",
    "# svc_cv.best_params_  # return {'C': 1, 'gamma': 'scale', 'kernel': 'rbf'}\n",
    "# svc_cv.best_score_"
   ]
  },
  {
   "cell_type": "code",
   "execution_count": 18,
   "metadata": {},
   "outputs": [
    {
     "data": {
      "text/plain": [
       "SVC(C=1, cache_size=200, class_weight=None, coef0=0.0,\n",
       "    decision_function_shape='ovr', degree=3, gamma='scale', kernel='rbf',\n",
       "    max_iter=-1, probability=True, random_state=None, shrinking=True, tol=0.001,\n",
       "    verbose=False)"
      ]
     },
     "execution_count": 18,
     "metadata": {},
     "output_type": "execute_result"
    }
   ],
   "source": [
    "svc=svm.SVC(C= 1, gamma= 'scale', kernel= 'rbf', probability=True)\n",
    "\n",
    "svc.fit(X_train, y_train)"
   ]
  },
  {
   "cell_type": "code",
   "execution_count": 19,
   "metadata": {},
   "outputs": [
    {
     "name": "stdout",
     "output_type": "stream",
     "text": [
      "Precisión modelo train/test  0.890/0.517\n"
     ]
    }
   ],
   "source": [
    "y_train_pred = svc.predict_proba(X_train)\n",
    "y_test_pred = svc.predict_proba(X_test)\n",
    "svc_train = roc_auc_score(y_train, y_train_pred[:, 1])\n",
    "svc_test = roc_auc_score(y_test, y_test_pred[:, 1])\n",
    "print('Precisión modelo train/test  {0:.3f}/{1:.3f}'.format(svc_train, svc_test))"
   ]
  },
  {
   "cell_type": "markdown",
   "metadata": {},
   "source": [
    "### Random forest\n",
    "\n",
    "En esta parte, realizamos el algoritmo de bosques aleatorios. La precisión de este método es muy similar a las conseguidas previamente como nos muestra la siguiente tabla:\n",
    "\n",
    "| Grupo | Precisión |\n",
    "|:----------:|:-----:|\n",
    "| Train | 100.0 % |\n",
    "| Test | 53.2 % |"
   ]
  },
  {
   "cell_type": "code",
   "execution_count": 20,
   "metadata": {},
   "outputs": [],
   "source": [
    "from sklearn.ensemble import RandomForestClassifier"
   ]
  },
  {
   "cell_type": "code",
   "execution_count": 21,
   "metadata": {},
   "outputs": [
    {
     "data": {
      "text/plain": [
       "RandomForestClassifier(bootstrap=True, class_weight=None, criterion='gini',\n",
       "                       max_depth=None, max_features='auto', max_leaf_nodes=None,\n",
       "                       min_impurity_decrease=0.0, min_impurity_split=None,\n",
       "                       min_samples_leaf=10, min_samples_split=2,\n",
       "                       min_weight_fraction_leaf=0.0, n_estimators=1000,\n",
       "                       n_jobs=None, oob_score=False, random_state=None,\n",
       "                       verbose=0, warm_start=False)"
      ]
     },
     "execution_count": 21,
     "metadata": {},
     "output_type": "execute_result"
    }
   ],
   "source": [
    "rf= RandomForestClassifier(n_estimators=1000,min_samples_leaf=10)\n",
    "\n",
    "rf.fit(X_train, y_train)"
   ]
  },
  {
   "cell_type": "code",
   "execution_count": 22,
   "metadata": {},
   "outputs": [
    {
     "name": "stdout",
     "output_type": "stream",
     "text": [
      "Precisión modelo train/test  1.000/0.532\n"
     ]
    }
   ],
   "source": [
    "y_train_pred = rf.predict_proba(X_train)\n",
    "y_test_pred = rf.predict_proba(X_test)\n",
    "rf_train = roc_auc_score(y_train, y_train_pred[:, 1])\n",
    "rf_test = roc_auc_score(y_test, y_test_pred[:, 1])\n",
    "print('Precisión modelo train/test  {0:.3f}/{1:.3f}'.format(rf_train, rf_test))"
   ]
  },
  {
   "cell_type": "markdown",
   "metadata": {},
   "source": [
    "### KNN\n",
    "\n",
    "En este apartado, realizamos la implementación de los K vecinos más próximos. En esta implementación, hemos modificado la métrica de la distancia calculada entre las distintas muestras para maximizar la precisión del modelo sobre el Test. Con este algoritmo obtenemos una precisión de:\n",
    "\n",
    "| Grupo | Precisión |\n",
    "|:----------:|:-----:|\n",
    "| Train | 89.0 % |\n",
    "| Test | 52.9 % |"
   ]
  },
  {
   "cell_type": "code",
   "execution_count": 23,
   "metadata": {},
   "outputs": [],
   "source": [
    "from sklearn.neighbors import KNeighborsClassifier"
   ]
  },
  {
   "cell_type": "code",
   "execution_count": 24,
   "metadata": {},
   "outputs": [
    {
     "data": {
      "text/plain": [
       "KNeighborsClassifier(algorithm='auto', leaf_size=30, metric='cosine',\n",
       "                     metric_params=None, n_jobs=None, n_neighbors=2, p=2,\n",
       "                     weights='uniform')"
      ]
     },
     "execution_count": 24,
     "metadata": {},
     "output_type": "execute_result"
    }
   ],
   "source": [
    "neigh = KNeighborsClassifier(n_neighbors=2, metric='cosine')\n",
    "\n",
    "neigh.fit(X_train, y_train)"
   ]
  },
  {
   "cell_type": "code",
   "execution_count": 25,
   "metadata": {},
   "outputs": [
    {
     "name": "stdout",
     "output_type": "stream",
     "text": [
      "Precisión modelo train/test  0.890/0.529\n"
     ]
    }
   ],
   "source": [
    "y_train_pred = neigh.predict_proba(X_train)\n",
    "y_test_pred = neigh.predict_proba(X_test)\n",
    "neigh_train = roc_auc_score(y_train, y_train_pred[:, 1])\n",
    "neigh_test = roc_auc_score(y_test, y_test_pred[:, 1])\n",
    "print('Precisión modelo train/test  {0:.3f}/{1:.3f}'.format(neigh_train, neigh_test))"
   ]
  },
  {
   "cell_type": "markdown",
   "metadata": {},
   "source": [
    "###  Voting classifier\n",
    "\n",
    "En esta sección, utilizamos un método de ensemble learning que consiste en combinar varias predicciones no muy buenas y que tengan poca correlación entre ellas para generar una predicción más robusta. En nuestro caso, comprobamos primero la correlación de los distintos algoritmos utilizados anteriormente. Acto seguido, procedemos a utilizar Voting Classifier en voting modo soft. \n",
    "\n",
    "Con este método conseguimos mejorar la predicción del test hasta conseguir un 54.7%, como comprobamos en la tabla:\n",
    "\n",
    "| Grupo | Precisión |\n",
    "|:----------:|:-----:|\n",
    "| Train | 99.7 % |\n",
    "| Test | 54.7 % |"
   ]
  },
  {
   "cell_type": "code",
   "execution_count": 26,
   "metadata": {},
   "outputs": [
    {
     "name": "stdout",
     "output_type": "stream",
     "text": [
      "0.13697152591851813 \n",
      " 0.15179970325352335 \n",
      " 0.27608351112058244 \n",
      " 0.06224859557479576 \n",
      " 0.2420987867859341 \n",
      " 0.34054068353384687 \n",
      " 0.06369160643048356 \n",
      " 0.6500836122856795 \n",
      " 0.16175913634695474 \n",
      " 0.1190496532171221 \n",
      "\n"
     ]
    }
   ],
   "source": [
    "print(np.corrcoef(tree.predict_proba(X_test)[:, 1],ada.predict_proba(X_test)[:, 1])[0][1], '\\n',\n",
    "      np.corrcoef(tree.predict_proba(X_test)[:, 1],svc.predict_proba(X_test)[:, 1])[0][1], '\\n',\n",
    "      np.corrcoef(tree.predict_proba(X_test)[:, 1], rf.predict_proba(X_test)[:, 1])[0][1], '\\n',\n",
    "      np.corrcoef(tree.predict_proba(X_test)[:, 1], neigh.predict_proba(X_test)[:, 1])[0][1], '\\n',\n",
    "      np.corrcoef(ada.predict_proba(X_test)[:, 1], svc.predict_proba(X_test)[:, 1])[0][1], '\\n',\n",
    "      np.corrcoef(ada.predict_proba(X_test)[:, 1], rf.predict_proba(X_test)[:, 1])[0][1], '\\n',\n",
    "      np.corrcoef(ada.predict_proba(X_test)[:, 1], neigh.predict_proba(X_test)[:, 1])[0][1], '\\n',\n",
    "      np.corrcoef(svc.predict_proba(X_test)[:, 1], rf.predict_proba(X_test)[:, 1])[0][1], '\\n',\n",
    "      np.corrcoef(svc.predict_proba(X_test)[:, 1], neigh.predict_proba(X_test)[:, 1])[0][1], '\\n',\n",
    "      np.corrcoef(rf.predict_proba(X_test)[:, 1], neigh.predict_proba(X_test)[:, 1])[0][1], '\\n',)"
   ]
  },
  {
   "cell_type": "code",
   "execution_count": 27,
   "metadata": {},
   "outputs": [],
   "source": [
    "from sklearn.ensemble import VotingClassifier\n"
   ]
  },
  {
   "cell_type": "code",
   "execution_count": 28,
   "metadata": {},
   "outputs": [],
   "source": [
    "eclf2 = VotingClassifier(estimators=[('tr', tree), ('ad', ada), ('sv', svc),('rf',rf), ('knn', neigh)],voting='soft')\n",
    "\n",
    "eclf2 = eclf2.fit(X_train, y_train)"
   ]
  },
  {
   "cell_type": "code",
   "execution_count": 29,
   "metadata": {},
   "outputs": [
    {
     "name": "stdout",
     "output_type": "stream",
     "text": [
      "Precisión modelo train/test  0.997/0.547\n"
     ]
    }
   ],
   "source": [
    "y_train_pred = eclf2.predict_proba(X_train)\n",
    "y_test_pred = eclf2.predict_proba(X_test)\n",
    "eclf2_train = roc_auc_score(y_train, y_train_pred[:, 1])\n",
    "eclf2_test = roc_auc_score(y_test, y_test_pred[:, 1])\n",
    "print('Precisión modelo train/test  {0:.3f}/{1:.3f}'.format(eclf2_train, eclf2_test))"
   ]
  },
  {
   "cell_type": "markdown",
   "metadata": {},
   "source": [
    "### RNN\n",
    "\n",
    "Por último, implementamos una red neuronal recurrente. Para poder correr esta parte necesitaríamos instalar todas las librerías del archivo 'requirements.txt' con el comando:\n",
    "\n",
    "    pip3 install -r requirements.txt\n",
    "\n",
    "Una vez instaladas todas las librerías, entrenamos la red con el siguiente comando:\n",
    "    \n",
    "    Python3 train.py --data_dir $path_del_archivo_csv\n",
    "    \n",
    "Para terminar, creamos un CSV con las predicciones del archivo TestMyriad.csv:\n",
    "    \n",
    "    Python3 test.py --data_dir_test $path_del_archivo_csv\n",
    "    \n",
    "La precisión de esta red neuronal tampoco es muy eficiente debido a que durante el entrenamiento solo llega a precisiones máximas en torno a 52.0 %. Por lo que no utilizaremos esta predicción en el resultado final.\n"
   ]
  },
  {
   "cell_type": "markdown",
   "metadata": {},
   "source": [
    "## Conclusiones"
   ]
  },
  {
   "cell_type": "markdown",
   "metadata": {},
   "source": [
    "En resumen, todas las metodologías utilizadas previamente tienen una precisión similar sobre el Test. Por lo que, escogeremos el algoritmo que ha tenido mayor precisión y es más robusto, **ensemble learning**. Sin embargo, podríamos utilizar la predicción del árbol de decisión debido a que consume mucho menos computacionalmente hablando, muy fácil de entender y la precisión es muy parecida.  \n"
   ]
  },
  {
   "cell_type": "code",
   "execution_count": 30,
   "metadata": {},
   "outputs": [
    {
     "data": {
      "image/png": "[encoded data removed]",
      "text/plain": [
       "<Figure size 792x504 with 1 Axes>"
      ]
     },
     "metadata": {
      "needs_background": "light"
     },
     "output_type": "display_data"
    }
   ],
   "source": [
    "preds_test=[tree_test,ada_test,svc_test,rf_test,neigh_test,eclf2_test]\n",
    "preds_train=[tree_train,ada_train,svc_train,rf_train,neigh_train,eclf2_train]\n",
    "ind = np.arange(6)\n",
    "width = 0.35\n",
    "plt.figure(figsize=(11, 7))\n",
    "\n",
    "p2 = plt.bar(ind, np.asarray(preds_train)*100, width)\n",
    "p1 = plt.bar(ind, np.asarray(preds_test)*100, width)\n",
    "p3=plt.axhline(y=eclf2_test*100 ,linewidth=3, color='r')\n",
    "\n",
    "\n",
    "plt.ylabel('Precisión')\n",
    "plt.title('Precisiones de los distintos algoritmos')\n",
    "plt.xticks(ind, ('árbol de decisión', 'AdaBoost', 'SVM', 'random forest', 'KNN', 'Voting classifier'))\n",
    "plt.yticks(np.arange(0, 100, 10))\n",
    "plt.legend((p1[0], p2[0],p3), ('test', 'train', 'máximo'))\n",
    "\n",
    "plt.show()"
   ]
  },
  {
   "cell_type": "markdown",
   "metadata": {},
   "source": [
    "## Futuros trabajos"
   ]
  },
  {
   "cell_type": "markdown",
   "metadata": {},
   "source": [
    "Como vemos a lo largo del documento, la precisión obtenida es muy similar a la de una elección aleatoria. Por lo que planteamos futuras líneas de investigación:\n",
    "\n",
    "**1.** La utilización de una red neuronal recurrente que prediga los últimos valores de las series y calcular el error cuadrático medio de las predicciones\n",
    "    \n",
    "**2.** La implementación de un error más complejo en el entrenamiento de la red neuronal, que se encargue de reducir las distancias entre series que pertenecen al mismo grupo y maximice las distancias entre series que pertenecen a distintos grupos."
   ]
  },
  {
   "cell_type": "markdown",
   "metadata": {},
   "source": [
    "### Creación del archivo con las predicciones"
   ]
  },
  {
   "cell_type": "code",
   "execution_count": 31,
   "metadata": {},
   "outputs": [],
   "source": [
    "# import csv"
   ]
  },
  {
   "cell_type": "code",
   "execution_count": 32,
   "metadata": {},
   "outputs": [],
   "source": [
    "# preds = eclf2.predict_proba(dftest)[:, 1]"
   ]
  },
  {
   "cell_type": "code",
   "execution_count": 33,
   "metadata": {},
   "outputs": [],
   "source": [
    "# with open('./submission.csv', 'w', newline='') as myfile:\n",
    "#     wr = csv.writer(myfile, quoting=csv.QUOTE_ALL)\n",
    "#     wr.writerow(['class'])\n",
    "#     for i in preds:\n",
    "#         wr.writerow([i])"
   ]
  },
  {
   "cell_type": "markdown",
   "metadata": {},
   "source": [
    "Muchas gracias por su tiempo!:)"
   ]
  }
 ],
 "metadata": {
  "kernelspec": {
   "display_name": "Python 3",
   "language": "python",
   "name": "python3"
  },
  "language_info": {
   "codemirror_mode": {
    "name": "ipython",
    "version": 3
   },
   "file_extension": ".py",
   "mimetype": "text/x-python",
   "name": "python",
   "nbconvert_exporter": "python",
   "pygments_lexer": "ipython3",
   "version": "3.7.2"
  }
 },
 "nbformat": 4,
 "nbformat_minor": 2
}
